{
 "cells": [
  {
   "cell_type": "code",
   "execution_count": 1,
   "id": "1f9efd4b",
   "metadata": {},
   "outputs": [],
   "source": [
    "import networkx as nx\n",
    "import matplotlib.pyplot as plt\n",
    "from pyvis.network import Network\n",
    "\n",
    "import sys\n",
    "import os\n",
    "\n",
    "# Получаем путь к корню проекта (папка NIR57)\n",
    "project_root = os.path.abspath(os.path.join(os.getcwd(), '..'))\n",
    "sys.path.insert(0, project_root)\n",
    "\n",
    "# Теперь можно импортировать\n",
    "from nir.graph.graph_storages.networkx_graph import NetworkXGraph\n",
    "\n",
    "\n",
    "from nir.graph.graph_storages.networkx_graph import NetworkXGraph"
   ]
  },
  {
   "cell_type": "code",
   "execution_count": 9,
   "id": "facd911e",
   "metadata": {},
   "outputs": [
    {
     "name": "stdout",
     "output_type": "stream",
     "text": [
      "../assets/outputs/graph.html\n",
      "Граф сохранен в файл graph.html\n"
     ]
    }
   ],
   "source": [
    "#H = nx.read_graphml(\"../assets/graphs/graph.graphml\")\n",
    "\n",
    "H = NetworkXGraph()\n",
    "H.load(\"../assets/graphs/graph.json\")\n",
    "\n",
    "net = Network(height='750px', width='100%', bgcolor='#222222', font_color='white')\n",
    "\n",
    "net.from_nx(H.graph)\n",
    "\n",
    "net.set_options(\"\"\"\n",
    "var options = {\n",
    "  \"nodes\": {\n",
    "    \"font\": {\n",
    "      \"size\": 14\n",
    "    }\n",
    "  },\n",
    "  \"edges\": {\n",
    "    \"color\": {\n",
    "      \"inherit\": true\n",
    "    },\n",
    "    \"smooth\": false\n",
    "  },\n",
    "  \"physics\": {\n",
    "    \"enabled\": true,\n",
    "    \"stabilization\": {\n",
    "      \"iterations\": 100\n",
    "    }\n",
    "  }\n",
    "}\n",
    "\"\"\")\n",
    "\n",
    "net.show(\"../assets/outputs/graph.html\", notebook=False)\n",
    "print(\"Граф сохранен в файл graph.html\")"
   ]
  },
  {
   "cell_type": "code",
   "execution_count": 3,
   "id": "36aa9c8c",
   "metadata": {},
   "outputs": [
    {
     "name": "stdout",
     "output_type": "stream",
     "text": [
      "[('J. WRIGLEY', 'ALI BABA, OR THE FORTY THIEVES.', 'published'), ('Sesame', 'Door', 'opens'), ('Sesame', 'Gold Coin', 'carries'), ('Ali_Baba', 'cave', 'visited_location'), ('Cassim', 'Ali_Baba', 'found_treasures'), ('robbers', 'Cassim', 'killed_character'), ('person', 'location', 'led'), ('morgiana', 'robber', 'speaks_to'), ('morgiana', 'jar', 'pours_into'), ('the_captain', 'shop', 'took'), ('cogia_hassan', 'ali_baba_son', 'offered'), ('cogia_hassan', 'ali_baba_s_house', 'appeared'), ('ali_baba_son', 'shop', 'went')]\n",
      "{'id': 'edge-1', 'source': 'J. WRIGLEY', 'target': 'ALI BABA, OR THE FORTY THIEVES.', 'relation': 'published', 'description': '', 'weight': 1.0, 'time_start_event': None, 'time_end_event': None}\n",
      "{'id': 'edge1', 'source': 'Sesame', 'target': 'Door', 'relation': 'opens', 'description': '', 'weight': 1.0, 'time_start_event': None, 'time_end_event': None}\n",
      "{'id': 'edge2', 'source': 'Sesame', 'target': 'Gold Coin', 'relation': 'carries', 'description': '', 'weight': 1.0, 'time_start_event': None, 'time_end_event': None}\n",
      "{'id': 'edge5', 'source': 'Ali_Baba', 'target': 'cave', 'relation': 'visited_location', 'description': '', 'weight': 1.0, 'time_start_event': None, 'time_end_event': None}\n",
      "{'id': 'edge3', 'source': 'Cassim', 'target': 'Ali_Baba', 'relation': 'found_treasures', 'description': '', 'weight': 1.0, 'time_start_event': None, 'time_end_event': None}\n",
      "{'id': 'edge4', 'source': 'robbers', 'target': 'Cassim', 'relation': 'killed_character', 'description': '', 'weight': 1.0, 'time_start_event': None, 'time_end_event': None}\n",
      "{'id': 'edge-2', 'source': 'person', 'target': 'location', 'relation': 'led', 'description': '', 'weight': 1.0, 'time_start_event': None, 'time_end_event': None}\n",
      "{'id': 'morgiana-talks-to-robber', 'source': 'morgiana', 'target': 'robber', 'relation': 'speaks_to', 'description': '', 'weight': 1.0, 'time_start_event': None, 'time_end_event': None}\n",
      "{'id': 'morgiana-pours-oil-into-jar', 'source': 'morgiana', 'target': 'jar', 'relation': 'pours_into', 'description': '', 'weight': 1.0, 'time_start_event': None, 'time_end_event': None}\n",
      "{'id': 'edge_3', 'source': 'the_captain', 'target': 'shop', 'relation': 'took', 'description': '', 'weight': 1.0, 'time_start_event': None, 'time_end_event': None}\n",
      "{'id': 'edge_4', 'source': 'cogia_hassan', 'target': 'ali_baba_son', 'relation': 'offered', 'description': '', 'weight': 1.0, 'time_start_event': None, 'time_end_event': None}\n",
      "{'id': 'edge_5', 'source': 'cogia_hassan', 'target': 'ali_baba_s_house', 'relation': 'appeared', 'description': '', 'weight': 1.0, 'time_start_event': None, 'time_end_event': None}\n",
      "{'id': 'edge_6', 'source': 'ali_baba_son', 'target': 'shop', 'relation': 'went', 'description': '', 'weight': 1.0, 'time_start_event': None, 'time_end_event': None}\n",
      "../assets/outputs/graph2.html\n",
      "Граф сохранен в файл graph2.html\n"
     ]
    }
   ],
   "source": [
    "H = NetworkXGraph()\n",
    "H.load(\"../assets/graphs/graph.json\")\n",
    "\n",
    "G_vis = H.graph.copy()\n",
    "\n",
    "for u, v, data in G_vis.edges(data=True):\n",
    "    edge_label = data['data']\n",
    "    data['label'] = edge_label\n",
    "    print(edge_label)\n",
    "\n",
    "net = Network(height='750px', width='100%', bgcolor='#222222', font_color='white')\n",
    "\n",
    "net.from_nx(G_vis)\n",
    "\n",
    "net.set_options(\"\"\"\n",
    "var options = {\n",
    "  \"nodes\": {\n",
    "    \"font\": {\n",
    "      \"size\": 14\n",
    "    }\n",
    "  },\n",
    "  \"edges\": {\n",
    "    \"color\": {\n",
    "      \"inherit\": true\n",
    "    },\n",
    "    \"smooth\": false,\n",
    "    \"font\": {\n",
    "      \"size\": 12,\n",
    "      \"color\": \"#ffffff\"\n",
    "    }\n",
    "  },\n",
    "  \"physics\": {\n",
    "    \"enabled\": true,\n",
    "    \"stabilization\": {\n",
    "      \"iterations\": 100\n",
    "    }\n",
    "  }\n",
    "}\n",
    "\"\"\")\n",
    "\n",
    "net.show(\"../assets/outputs/graph2.html\", notebook=False)\n",
    "print(\"Граф сохранен в файл graph2.html\")"
   ]
  },
  {
   "cell_type": "code",
   "execution_count": 2,
   "id": "778544ae",
   "metadata": {},
   "outputs": [
    {
     "name": "stdout",
     "output_type": "stream",
     "text": [
      "[('J. WRIGLEY', 'ALI BABA, OR THE FORTY THIEVES.', 'published'), ('Sesame', 'Door', 'opens'), ('Sesame', 'Gold Coin', 'carries'), ('Ali_Baba', 'cave', 'visited_location'), ('Cassim', 'Ali_Baba', 'found_treasures'), ('robbers', 'Cassim', 'killed_character'), ('person', 'location', 'led'), ('morgiana', 'robber', 'speaks_to'), ('morgiana', 'jar', 'pours_into'), ('the_captain', 'shop', 'took'), ('cogia_hassan', 'ali_baba_son', 'offered'), ('cogia_hassan', 'ali_baba_s_house', 'appeared'), ('ali_baba_son', 'shop', 'went')]\n"
     ]
    }
   ],
   "source": [
    "H = NetworkXGraph()\n",
    "H.load(\"../assets/graphs/graph.json\")"
   ]
  }
 ],
 "metadata": {
  "kernelspec": {
   "display_name": ".venv (3.13.7)",
   "language": "python",
   "name": "python3"
  },
  "language_info": {
   "codemirror_mode": {
    "name": "ipython",
    "version": 3
   },
   "file_extension": ".py",
   "mimetype": "text/x-python",
   "name": "python",
   "nbconvert_exporter": "python",
   "pygments_lexer": "ipython3",
   "version": "3.13.7"
  }
 },
 "nbformat": 4,
 "nbformat_minor": 5
}
